{
 "cells": [
  {
   "cell_type": "markdown",
   "id": "aeaad27c",
   "metadata": {},
   "source": [
    "# text_analytics-1"
   ]
  },
  {
   "cell_type": "code",
   "execution_count": null,
   "id": "906c6d8a",
   "metadata": {},
   "outputs": [],
   "source": [
    "#sentence into words\n",
    "#paragraph into sentences"
   ]
  },
  {
   "cell_type": "code",
   "execution_count": 1,
   "id": "d0c049d2",
   "metadata": {},
   "outputs": [],
   "source": [
    "#regular expression\n",
    "import re"
   ]
  },
  {
   "cell_type": "code",
   "execution_count": 2,
   "id": "a2cf3583",
   "metadata": {},
   "outputs": [
    {
     "data": {
      "text/plain": [
       "['I', 'am', 'learning', 'NLTK']"
      ]
     },
     "execution_count": 2,
     "metadata": {},
     "output_type": "execute_result"
    }
   ],
   "source": [
    "#split a sentence into words\n",
    "s1 = \"I am learning NLTK\"\n",
    "re.split('\\s',s1)\n",
    "# \\s is called Identifier"
   ]
  },
  {
   "cell_type": "code",
   "execution_count": null,
   "id": "7a10ad65",
   "metadata": {},
   "outputs": [],
   "source": [
    "'''\n",
    "\\s -> space\n",
    "\\d -> number\n",
    "\\D -> anything but a number\n",
    "\\S -> anything but a space\n",
    "\\w -> any charater\n",
    "\\W -> any thing but a charater\n",
    "'''"
   ]
  },
  {
   "cell_type": "code",
   "execution_count": 3,
   "id": "0b052a50",
   "metadata": {},
   "outputs": [
    {
     "data": {
      "text/plain": [
       "['I ', '', ' an new ', '', ' to ', ' NLTK']"
      ]
     },
     "execution_count": 3,
     "metadata": {},
     "output_type": "execute_result"
    }
   ],
   "source": [
    "s2 = \"I \\n\\n an new \\n\\n to \\n NLTK\"\n",
    "re.split('\\n',s2)"
   ]
  },
  {
   "cell_type": "code",
   "execution_count": null,
   "id": "67e6c401",
   "metadata": {},
   "outputs": [],
   "source": [
    "'''\n",
    "modifiers -> extract specific info from the text , matching the pattern\n",
    "\n",
    "+  -> matches 1 or more \n",
    "\n",
    ". -> everything till end of line\n",
    "\n",
    "? -> 0 or 1\n",
    "\n",
    "* -> 0 or more\n",
    "\n",
    "[] -> includes a range \n",
    "\n",
    "() -> include a group of characters\n",
    "\n",
    "{} -> query   #how many digits\n",
    "'''\n"
   ]
  },
  {
   "cell_type": "code",
   "execution_count": 7,
   "id": "e23b1396",
   "metadata": {},
   "outputs": [
    {
     "name": "stdout",
     "output_type": "stream",
     "text": [
      "India is my Country. The capital is New Delhi. It is in Asia. Cialand is also a country\n"
     ]
    }
   ],
   "source": [
    "#more patterns matching \n",
    "s3 = \"India is my Country. The capital is New Delhi. It is in Asia. Cialand is also a country\"\n",
    "print(s3)\n"
   ]
  },
  {
   "cell_type": "code",
   "execution_count": 10,
   "id": "bfc78671",
   "metadata": {},
   "outputs": [
    {
     "data": {
      "text/plain": [
       "['India', 'Asia', 'Cialand']"
      ]
     },
     "execution_count": 10,
     "metadata": {},
     "output_type": "execute_result"
    }
   ],
   "source": [
    "#find all the words that have the patterns \"ia\"\n",
    "re.findall(\"[\\w]+ia[\\w]*\",s3)"
   ]
  },
  {
   "cell_type": "code",
   "execution_count": 11,
   "id": "67465d23",
   "metadata": {},
   "outputs": [
    {
     "data": {
      "text/plain": [
       "['India', 'Asia', 'Cialand']"
      ]
     },
     "execution_count": 11,
     "metadata": {},
     "output_type": "execute_result"
    }
   ],
   "source": [
    "re.findall(\"[\\w]*ia[\\w]*\",s3)"
   ]
  },
  {
   "cell_type": "code",
   "execution_count": 15,
   "id": "4b8248c7",
   "metadata": {},
   "outputs": [
    {
     "data": {
      "text/plain": [
       "['An', 'Apple', 'Day', 'Doctor', 'Away']"
      ]
     },
     "execution_count": 15,
     "metadata": {},
     "output_type": "execute_result"
    }
   ],
   "source": [
    "#get all the words that start we a capital letter\n",
    "s4 = \"An Apple a Day keeps the Doctor Away\"\n",
    "re.findall(\"[A-Z]\\w+\",s4)"
   ]
  },
  {
   "cell_type": "code",
   "execution_count": 22,
   "id": "1abd4dd6",
   "metadata": {},
   "outputs": [
    {
     "data": {
      "text/plain": [
       "['daY', 'doctoR']"
      ]
     },
     "execution_count": 22,
     "metadata": {},
     "output_type": "execute_result"
    }
   ],
   "source": [
    "#get all the words that ends with capital letters\n",
    "s5 = \"an apple a daY keeps the doctoR away\"\n",
    "re.findall(\"\\w+[A-Z]\",s5)"
   ]
  },
  {
   "cell_type": "code",
   "execution_count": 26,
   "id": "f350e1c8",
   "metadata": {},
   "outputs": [
    {
     "data": {
      "text/plain": [
       "['woRk', 'Jack', 'boY']"
      ]
     },
     "execution_count": 26,
     "metadata": {},
     "output_type": "execute_result"
    }
   ],
   "source": [
    "#get all the words that have at least 1 upper case character\n",
    "s6 = \"all woRk and no play makes Jack a dully boY\"\n",
    "re.findall(\"[\\w]*[A-Z][\\w]*\",s6)"
   ]
  },
  {
   "cell_type": "code",
   "execution_count": 32,
   "id": "eb7ae97a",
   "metadata": {},
   "outputs": [
    {
     "data": {
      "text/plain": [
       "['all', 'wo', 'k', 'and', 'no', 'play', 'makes', 'ack', 'a', 'dully', 'bo']"
      ]
     },
     "execution_count": 32,
     "metadata": {},
     "output_type": "execute_result"
    }
   ],
   "source": [
    "#find all the lower case words from sentence s6\n",
    "re.findall(\"[a-z]+\",s6)"
   ]
  },
  {
   "cell_type": "code",
   "execution_count": 34,
   "id": "429889be",
   "metadata": {},
   "outputs": [
    {
     "name": "stdout",
     "output_type": "stream",
     "text": [
      "primary mail id is sri@yahoomail.com, secondary mail id is sri@rediff.com, alternate id is sriram@gmail.com\n"
     ]
    }
   ],
   "source": [
    "#extract email ID's from a string \n",
    "s7 = \"primary mail id is sri@yahoomail.com, secondary mail id is sri@rediff.com, alternate id is sriram@gmail.com\"\n",
    "print(s7)"
   ]
  },
  {
   "cell_type": "code",
   "execution_count": 40,
   "id": "766378f3",
   "metadata": {},
   "outputs": [
    {
     "data": {
      "text/plain": [
       "['sri@yahoomail.com', 'sri@rediff.com', 'sriram@gmail.com']"
      ]
     },
     "execution_count": 40,
     "metadata": {},
     "output_type": "execute_result"
    }
   ],
   "source": [
    "emails = re.findall(\"[\\w.]+@[\\w.]+\",s7)\n",
    "emails"
   ]
  },
  {
   "cell_type": "code",
   "execution_count": 39,
   "id": "15560673",
   "metadata": {},
   "outputs": [
    {
     "name": "stdout",
     "output_type": "stream",
     "text": [
      "primary mail id = sri@yahoomail.com, secondary mail id = sri@rediff.com\n"
     ]
    }
   ],
   "source": [
    "print(\"primary mail id = {}, secondary mail id = {}\".format(emails[0],emails[1],emails[2]))"
   ]
  },
  {
   "cell_type": "code",
   "execution_count": 41,
   "id": "a3808447",
   "metadata": {},
   "outputs": [
    {
     "data": {
      "text/plain": [
       "'c1@gmail.com c2@yahoo.com c3@mycompany.com c4@gmail.com c5@hotmail.com'"
      ]
     },
     "execution_count": 41,
     "metadata": {},
     "output_type": "execute_result"
    }
   ],
   "source": [
    "#get all email ids belonging to the specific domain \n",
    "s8 = \"c1@gmail.com c2@yahoo.com c3@mycompany.com c4@gmail.com c5@hotmail.com\"\n",
    "s8"
   ]
  },
  {
   "cell_type": "code",
   "execution_count": 42,
   "id": "93b39b5d",
   "metadata": {},
   "outputs": [
    {
     "data": {
      "text/plain": [
       "['c1@gmail.com', 'c4@gmail.com']"
      ]
     },
     "execution_count": 42,
     "metadata": {},
     "output_type": "execute_result"
    }
   ],
   "source": [
    "#get email ID's belonging to domain 'gmail'\n",
    "re.findall(\"[\\w.]+@gmail.com\",s8)"
   ]
  },
  {
   "cell_type": "code",
   "execution_count": 43,
   "id": "30752ca9",
   "metadata": {},
   "outputs": [
    {
     "data": {
      "text/plain": [
       "'<firstname>sriram<firstname>'"
      ]
     },
     "execution_count": 43,
     "metadata": {},
     "output_type": "execute_result"
    }
   ],
   "source": [
    "#extract the values from within a XML/HTML tag \n",
    "s9 = \"<firstname>sriram<firstname>\"\n",
    "s9"
   ]
  },
  {
   "cell_type": "code",
   "execution_count": 54,
   "id": "709127ca",
   "metadata": {},
   "outputs": [
    {
     "data": {
      "text/plain": [
       "['sriram']"
      ]
     },
     "execution_count": 54,
     "metadata": {},
     "output_type": "execute_result"
    }
   ],
   "source": [
    "re.findall(\">(.*)<\",s9)  #returns words without tags"
   ]
  },
  {
   "cell_type": "code",
   "execution_count": 66,
   "id": "cc7e0c84",
   "metadata": {},
   "outputs": [
    {
     "data": {
      "text/plain": [
       "['>sriram<']"
      ]
     },
     "execution_count": 66,
     "metadata": {},
     "output_type": "execute_result"
    }
   ],
   "source": [
    "re.findall(\">[\\w]*<\",s9)   #returns words with tags"
   ]
  },
  {
   "cell_type": "code",
   "execution_count": 95,
   "id": "01c5363f",
   "metadata": {},
   "outputs": [
    {
     "data": {
      "text/plain": [
       "'the average experience of the employees is 5 years . There are some people who have more than 15 years exp. There are 200 people working here. The total revenue was 2745 cr . the office is number is 29108040. Last year, the number of employees where 191 and before that it was 102'"
      ]
     },
     "execution_count": 95,
     "metadata": {},
     "output_type": "execute_result"
    }
   ],
   "source": [
    "#extract numbers from a string \n",
    "s10 = \"the average experience of the employees is 5 years . There are some people who have more than 15 years exp. There are 200 people working here. The total revenue was 2745 cr . the office is number is 29108040. Last year, the number of employees where 191 and before that it was 102\"\n",
    "s10"
   ]
  },
  {
   "cell_type": "code",
   "execution_count": 87,
   "id": "e3810406",
   "metadata": {},
   "outputs": [
    {
     "data": {
      "text/plain": [
       "['5', '15', '200', '2745', '29108040']"
      ]
     },
     "execution_count": 87,
     "metadata": {},
     "output_type": "execute_result"
    }
   ],
   "source": [
    "#all numbers\n",
    "numbers = re.findall(\"\\d+\",s10)\n",
    "numbers"
   ]
  },
  {
   "cell_type": "code",
   "execution_count": 72,
   "id": "0605ca75",
   "metadata": {},
   "outputs": [
    {
     "data": {
      "text/plain": [
       "['29108040']"
      ]
     },
     "execution_count": 72,
     "metadata": {},
     "output_type": "execute_result"
    }
   ],
   "source": [
    "#extract numbers that are of a specific digit \n",
    "re.findall(\"\\d{8}\",s10)"
   ]
  },
  {
   "cell_type": "code",
   "execution_count": 73,
   "id": "298c5710",
   "metadata": {},
   "outputs": [
    {
     "data": {
      "text/plain": [
       "['2745', '2910', '8040']"
      ]
     },
     "execution_count": 73,
     "metadata": {},
     "output_type": "execute_result"
    }
   ],
   "source": [
    "#get all the 4 digit numbers\n",
    "re.findall(\"\\d{4}\",s10)   # gives wrong output "
   ]
  },
  {
   "cell_type": "code",
   "execution_count": 74,
   "id": "f2acbd7e",
   "metadata": {},
   "outputs": [
    {
     "data": {
      "text/plain": [
       "['200', '274', '291', '080']"
      ]
     },
     "execution_count": 74,
     "metadata": {},
     "output_type": "execute_result"
    }
   ],
   "source": [
    "#get all the 3 digit numbers\n",
    "re.findall(\"\\d{3}\",s10) "
   ]
  },
  {
   "cell_type": "code",
   "execution_count": 75,
   "id": "24417a61",
   "metadata": {},
   "outputs": [
    {
     "data": {
      "text/plain": [
       "['15', '20', '27', '45', '29', '10', '80', '40']"
      ]
     },
     "execution_count": 75,
     "metadata": {},
     "output_type": "execute_result"
    }
   ],
   "source": [
    "re.findall(\"\\d{2}\",s10) "
   ]
  },
  {
   "cell_type": "code",
   "execution_count": 76,
   "id": "14f3e9f5",
   "metadata": {},
   "outputs": [
    {
     "data": {
      "text/plain": [
       "['5',\n",
       " '1',\n",
       " '5',\n",
       " '2',\n",
       " '0',\n",
       " '0',\n",
       " '2',\n",
       " '7',\n",
       " '4',\n",
       " '5',\n",
       " '2',\n",
       " '9',\n",
       " '1',\n",
       " '0',\n",
       " '8',\n",
       " '0',\n",
       " '4',\n",
       " '0']"
      ]
     },
     "execution_count": 76,
     "metadata": {},
     "output_type": "execute_result"
    }
   ],
   "source": [
    "re.findall(\"\\d{1}\",s10) "
   ]
  },
  {
   "cell_type": "code",
   "execution_count": 88,
   "id": "878d00af",
   "metadata": {},
   "outputs": [
    {
     "data": {
      "text/plain": [
       "['5', '15', '200', '2745', '29108040']"
      ]
     },
     "execution_count": 88,
     "metadata": {},
     "output_type": "execute_result"
    }
   ],
   "source": [
    "numbers"
   ]
  },
  {
   "cell_type": "code",
   "execution_count": 89,
   "id": "ba0d89f3",
   "metadata": {},
   "outputs": [
    {
     "data": {
      "text/plain": [
       "[200]"
      ]
     },
     "execution_count": 89,
     "metadata": {},
     "output_type": "execute_result"
    }
   ],
   "source": [
    "#using python method extract 3 digit number from text\n",
    "[int(n) for n in numbers if len(n) == 3]"
   ]
  },
  {
   "cell_type": "code",
   "execution_count": 96,
   "id": "cf00631e",
   "metadata": {},
   "outputs": [
    {
     "data": {
      "text/plain": [
       "['200', '191']"
      ]
     },
     "execution_count": 96,
     "metadata": {},
     "output_type": "execute_result"
    }
   ],
   "source": [
    "#look ahead/look behind technique\n",
    "re.findall(\"(?<=\\s)\\d{3}(?=\\s)\",s10)"
   ]
  },
  {
   "cell_type": "code",
   "execution_count": 97,
   "id": "14c075da",
   "metadata": {},
   "outputs": [
    {
     "data": {
      "text/plain": [
       "['5']"
      ]
     },
     "execution_count": 97,
     "metadata": {},
     "output_type": "execute_result"
    }
   ],
   "source": [
    "re.findall(\"(?<=\\s)\\d{1}(?=\\s)\",s10)"
   ]
  },
  {
   "cell_type": "code",
   "execution_count": null,
   "id": "ebfc42bf",
   "metadata": {},
   "outputs": [],
   "source": [
    "'''\n",
    "there are 7 days , 24 hours , 365 days, 52 weeks \n",
    "#assume we want all the 2 digit numbers \n",
    "2 digit numbers are -> 24 , 52 this should be the output\n",
    "\n",
    "1st method =>\"(\\d)+\" -> ['7','24','365','52','3600']\n",
    "\n",
    "2nd method => findall(     )\n",
    "                       look behind                <-[d{2}]->\n",
    "                       look ahead               LB          LA\n",
    "                                                +,-           +,-\n",
    "                                                \n",
    "                                                \n",
    "                                        \n",
    "\n",
    "'''\n"
   ]
  },
  {
   "cell_type": "code",
   "execution_count": 100,
   "id": "8eac8abb",
   "metadata": {},
   "outputs": [
    {
     "data": {
      "text/plain": [
       "'python is an easy language to learn. python is also popular among data science projects as the preferred language. it supports oops and can be used to develop other applications. the question about its popularity has been going on for long'"
      ]
     },
     "execution_count": 100,
     "metadata": {},
     "output_type": "execute_result"
    }
   ],
   "source": [
    "#split a sentence on certain charaters\n",
    "s11 = \"python is an easy language to learn. python is also popular among data science projects as the preferred language. it supports oops and can be used to develop other applications. the question about its popularity has been going on for long\"\n",
    "s11"
   ]
  },
  {
   "cell_type": "code",
   "execution_count": 101,
   "id": "c22aa5e0",
   "metadata": {},
   "outputs": [
    {
     "data": {
      "text/plain": [
       "['',\n",
       " 'ython is an easy language to lea',\n",
       " 'n. ',\n",
       " 'ython is also ',\n",
       " 'o',\n",
       " 'ula',\n",
       " ' among data science ',\n",
       " '',\n",
       " 'ojects as the ',\n",
       " '',\n",
       " 'efe',\n",
       " '',\n",
       " 'ed language. it su',\n",
       " '',\n",
       " 'o',\n",
       " 'ts oo',\n",
       " 's and can be used to develo',\n",
       " ' othe',\n",
       " ' a',\n",
       " '',\n",
       " 'lications. the ',\n",
       " 'uestion about its ',\n",
       " 'o',\n",
       " 'ula',\n",
       " 'ity has been going on fo',\n",
       " ' long']"
      ]
     },
     "execution_count": 101,
     "metadata": {},
     "output_type": "execute_result"
    }
   ],
   "source": [
    "#split the sentence s11 on char[p,q,r]\n",
    "re.split(\"[p-r]\",s11)"
   ]
  },
  {
   "cell_type": "code",
   "execution_count": 102,
   "id": "fafcfa35",
   "metadata": {},
   "outputs": [
    {
     "data": {
      "text/plain": [
       "'makyra is a way of pronouncing word. the lady in red was shopping in the mall in kayakistan '"
      ]
     },
     "execution_count": 102,
     "metadata": {},
     "output_type": "execute_result"
    }
   ],
   "source": [
    "s12 = \"makyra is a way of pronouncing word. the lady in red was shopping in the mall in kayakistan \"\n",
    "s12\n"
   ]
  },
  {
   "cell_type": "code",
   "execution_count": 103,
   "id": "e2cf2e48",
   "metadata": {},
   "outputs": [
    {
     "data": {
      "text/plain": [
       "['',\n",
       " 'kyra is a way of pronouncing word. the ',\n",
       " 'dy in red was shopping in the ',\n",
       " 'll in ',\n",
       " 'yakistan ']"
      ]
     },
     "execution_count": 103,
     "metadata": {},
     "output_type": "execute_result"
    }
   ],
   "source": [
    "#suppose pattern is [ka,la,ma] \n",
    "re.split(\"[k-m]a\",s12)"
   ]
  },
  {
   "cell_type": "code",
   "execution_count": 131,
   "id": "763dd9ae",
   "metadata": {},
   "outputs": [
    {
     "data": {
      "text/plain": [
       "'I think I understand regular expressions'"
      ]
     },
     "execution_count": 131,
     "metadata": {},
     "output_type": "execute_result"
    }
   ],
   "source": [
    "#A1)\n",
    "s13 = \"I think I understand regular expressions\"\n",
    "s13"
   ]
  },
  {
   "cell_type": "code",
   "execution_count": null,
   "id": "ad7add81",
   "metadata": {},
   "outputs": [],
   "source": [
    "#create the sentence and extract the all the words after \"think\"\n",
    "#1)use python method\n",
    "#2)regular expression"
   ]
  },
  {
   "cell_type": "code",
   "execution_count": 122,
   "id": "624f0eaa",
   "metadata": {},
   "outputs": [
    {
     "data": {
      "text/plain": [
       "2"
      ]
     },
     "execution_count": 122,
     "metadata": {},
     "output_type": "execute_result"
    }
   ],
   "source": [
    "#1)\n",
    "wd= 'think'\n",
    "s13.index(wd)"
   ]
  },
  {
   "cell_type": "code",
   "execution_count": 124,
   "id": "f9004818",
   "metadata": {},
   "outputs": [
    {
     "data": {
      "text/plain": [
       "'I understand regular expressions'"
      ]
     },
     "execution_count": 124,
     "metadata": {},
     "output_type": "execute_result"
    }
   ],
   "source": [
    "s13[s13.index(wd)+len(wd)+1:]"
   ]
  },
  {
   "cell_type": "code",
   "execution_count": 125,
   "id": "bb0c1872",
   "metadata": {},
   "outputs": [
    {
     "data": {
      "text/plain": [
       "'I understand regular expressions'"
      ]
     },
     "execution_count": 125,
     "metadata": {},
     "output_type": "execute_result"
    }
   ],
   "source": [
    "s13[s13.index(wd)+len(wd):].strip()"
   ]
  },
  {
   "cell_type": "code",
   "execution_count": 115,
   "id": "20e5da3c",
   "metadata": {},
   "outputs": [
    {
     "data": {
      "text/plain": [
       "[' I understand regular expressions']"
      ]
     },
     "execution_count": 115,
     "metadata": {},
     "output_type": "execute_result"
    }
   ],
   "source": [
    "#2)\n",
    "re.findall(\"I think(.*)\",s13)"
   ]
  },
  {
   "cell_type": "code",
   "execution_count": 132,
   "id": "59233c66",
   "metadata": {},
   "outputs": [
    {
     "data": {
      "text/plain": [
       "[]"
      ]
     },
     "execution_count": 132,
     "metadata": {},
     "output_type": "execute_result"
    }
   ],
   "source": [
    "re.findall(\"(?<=think)\\w.+\", s13)"
   ]
  },
  {
   "cell_type": "code",
   "execution_count": 133,
   "id": "2fd45550",
   "metadata": {},
   "outputs": [
    {
     "name": "stdout",
     "output_type": "stream",
     "text": [
      "??? this sentence [[[has a  } lot of extra charaters + apart from the && regular text; this// needs to be % cleanseD]]]\n"
     ]
    }
   ],
   "source": [
    "#text cleaning \n",
    "text =\"??? this sentence [[[has a  } lot of extra charaters + apart from the && regular text; this// needs to be % cleanseD]]]\"\n",
    "print(text)"
   ]
  },
  {
   "cell_type": "code",
   "execution_count": 136,
   "id": "66641014",
   "metadata": {},
   "outputs": [
    {
     "data": {
      "text/plain": [
       "'this sentence    has a    lot of extra charaters   apart from the    regular text  this   needs to be   cleanseD'"
      ]
     },
     "execution_count": 136,
     "metadata": {},
     "output_type": "execute_result"
    }
   ],
   "source": [
    "#replace function \n",
    "re.sub(\"[\\W]\",' ',text).strip()"
   ]
  },
  {
   "cell_type": "code",
   "execution_count": 137,
   "id": "ca569e7b",
   "metadata": {},
   "outputs": [
    {
     "name": "stdout",
     "output_type": "stream",
     "text": [
      "    this sentence    has a    lot of extra charaters   apart from the    regular text  this   needs to be   cleanseD   \n"
     ]
    }
   ],
   "source": [
    "text = re.sub(\"[\\W]\",' ',text)\n",
    "print(text)"
   ]
  },
  {
   "cell_type": "code",
   "execution_count": 139,
   "id": "33e25cc8",
   "metadata": {},
   "outputs": [
    {
     "name": "stdout",
     "output_type": "stream",
     "text": [
      "this sentence has a lot of extra charaters apart from the regular text this needs to be cleanseD\n"
     ]
    }
   ],
   "source": [
    "#split and join to do properly formated sentence\n",
    "text = \" \".join(text.split())\n",
    "print(text)"
   ]
  },
  {
   "cell_type": "code",
   "execution_count": null,
   "id": "1a70e34a",
   "metadata": {},
   "outputs": [],
   "source": [
    "#-------------------------------------------------------------------------------------------"
   ]
  },
  {
   "cell_type": "code",
   "execution_count": null,
   "id": "cac303ca",
   "metadata": {},
   "outputs": [],
   "source": [
    "#file name: services.xml"
   ]
  },
  {
   "cell_type": "code",
   "execution_count": null,
   "id": "69d5848b",
   "metadata": {},
   "outputs": [],
   "source": []
  },
  {
   "cell_type": "code",
   "execution_count": 178,
   "id": "d48132b9",
   "metadata": {},
   "outputs": [],
   "source": [
    "#read a file in python\n",
    "filename = \"C:/Users/mayur/Downloads/services.xml\"\n",
    "f=open(filename,\"r\")"
   ]
  },
  {
   "cell_type": "code",
   "execution_count": 179,
   "id": "478fc5b0",
   "metadata": {},
   "outputs": [
    {
     "name": "stdout",
     "output_type": "stream",
     "text": [
      "<services>\n",
      "\n"
     ]
    }
   ],
   "source": [
    "line = f.readline()  #read the file for processing \n",
    "print(line)"
   ]
  },
  {
   "cell_type": "code",
   "execution_count": 172,
   "id": "9fbe4110",
   "metadata": {},
   "outputs": [],
   "source": [
    "servic={}"
   ]
  },
  {
   "cell_type": "code",
   "execution_count": 175,
   "id": "101cac35",
   "metadata": {},
   "outputs": [],
   "source": [
    "books ={}"
   ]
  },
  {
   "cell_type": "code",
   "execution_count": 177,
   "id": "ddeb7334",
   "metadata": {},
   "outputs": [
    {
     "name": "stdout",
     "output_type": "stream",
     "text": [
      "{'r k narayan': 'malgudi days'}\n"
     ]
    }
   ],
   "source": [
    "books['r k narayan'] = 'malgudi days'\n",
    "print(books)"
   ]
  },
  {
   "cell_type": "code",
   "execution_count": 180,
   "id": "ccbfd9a6",
   "metadata": {},
   "outputs": [
    {
     "name": "stdout",
     "output_type": "stream",
     "text": [
      "[]\n",
      "[]\n",
      "[]\n",
      "[]\n",
      "['1464']\n",
      "['1464']\n",
      "['AdobeARMservice']\n",
      "['AdobeARMservice']\n",
      "['Running']\n",
      "['Running']\n",
      "['Acrobat Update Service']\n",
      "['Acrobat Update Service']\n",
      "[]\n",
      "[]\n",
      "[]\n",
      "[]\n",
      "[]\n",
      "[]\n",
      "['13948']\n",
      "['13948']\n",
      "['OneSyncSvc_ba0290']\n",
      "['OneSyncSvc_ba0290']\n",
      "['Running']\n",
      "['Running']\n",
      "['Unistack service']\n",
      "['Unistack service']\n",
      "[]\n",
      "[]\n",
      "[]\n",
      "[]\n",
      "[]\n",
      "[]\n",
      "['9836']\n",
      "['9836']\n",
      "['LicenseManager']\n",
      "['LicenseManager']\n",
      "['Running']\n",
      "['Running']\n",
      "['LocalService']\n",
      "['LocalService']\n",
      "[]\n",
      "[]\n",
      "[]\n",
      "[]\n",
      "[]\n",
      "[]\n",
      "['7292']\n",
      "['7292']\n",
      "['TabletInputService']\n",
      "['TabletInputService']\n",
      "['Stopped']\n",
      "['Stopped']\n",
      "['LocalSystemNetworkRestricted']\n",
      "['LocalSystemNetworkRestricted']\n",
      "[]\n",
      "[]\n",
      "[]\n",
      "[]\n",
      "[]\n",
      "[]\n",
      "['8732']\n",
      "['8732']\n",
      "['HPSupportSolutionsFrameworkService']\n",
      "['HPSupportSolutionsFrameworkService']\n",
      "['Running']\n",
      "['Running']\n",
      "['HP Support Solutions']\n",
      "['HP Support Solutions']\n",
      "[]\n",
      "[]\n",
      "[]\n",
      "[]\n",
      "[]\n",
      "[]\n",
      "['7016']\n",
      "['7016']\n",
      "['SSDPSRV']\n",
      "['SSDPSRV']\n",
      "['Running']\n",
      "['Running']\n",
      "['LocalServiceAndNoImpersonation']\n",
      "['LocalServiceAndNoImpersonation']\n",
      "[]\n",
      "[]\n",
      "[]\n",
      "[]\n",
      "[]\n",
      "[]\n",
      "['5472']\n",
      "['5472']\n",
      "['Netman']\n",
      "['Netman']\n",
      "['Paused']\n",
      "['Paused']\n",
      "['LocalSystemNetworkRestricted']\n",
      "['LocalSystemNetworkRestricted']\n",
      "[]\n",
      "[]\n",
      "[]\n",
      "[]\n",
      "[]\n",
      "[]\n",
      "['3896']\n",
      "['3896']\n",
      "['TapiSrv']\n",
      "['TapiSrv']\n",
      "['Running']\n",
      "['Running']\n",
      "['NetworkService']\n",
      "['NetworkService']\n",
      "[]\n",
      "[]\n",
      "[]\n",
      "[]\n",
      "[]\n",
      "[]\n",
      "['2988']\n",
      "['2988']\n",
      "['StateRepository']\n",
      "['StateRepository']\n",
      "['Running']\n",
      "['Running']\n",
      "['appmodel']\n",
      "['appmodel']\n",
      "[]\n",
      "[]\n",
      "[]\n",
      "[]\n",
      "[]\n",
      "[]\n",
      "['1836']\n",
      "['1836']\n",
      "['DeviceAssociationService']\n",
      "['DeviceAssociationService']\n",
      "['Running']\n",
      "['Running']\n",
      "['LocalSystemNetworkRestricted']\n",
      "['LocalSystemNetworkRestricted']\n",
      "[]\n",
      "[]\n",
      "[]\n",
      "[]\n",
      "[]\n",
      "[]\n",
      "{None: None}\n"
     ]
    }
   ],
   "source": [
    "while line:\n",
    "    servic={}\n",
    "    #extracting the key - value pair of a service and populate the dictionary\n",
    "    key =re.findall(\">(.*)<\",line)\n",
    "    val = re.findall(\">(.*)<\",line)    \n",
    "        \n",
    "    servic[print(key)] = print(val)\n",
    "    \n",
    "    line = f.readline()\n",
    "    \n",
    "f.close() #close the file \n",
    "\n",
    "#print the dictionary\n",
    "print(servic)"
   ]
  },
  {
   "cell_type": "code",
   "execution_count": null,
   "id": "5ed39b07",
   "metadata": {},
   "outputs": [],
   "source": []
  },
  {
   "cell_type": "code",
   "execution_count": 142,
   "id": "b3a30b81",
   "metadata": {},
   "outputs": [
    {
     "data": {
      "text/plain": [
       "'<firstname>sriram<firstname>'"
      ]
     },
     "execution_count": 142,
     "metadata": {},
     "output_type": "execute_result"
    }
   ],
   "source": [
    "s9 = \"<firstname>sriram<firstname>\"\n",
    "s9"
   ]
  },
  {
   "cell_type": "code",
   "execution_count": 143,
   "id": "cca90922",
   "metadata": {},
   "outputs": [
    {
     "data": {
      "text/plain": [
       "['sriram']"
      ]
     },
     "execution_count": 143,
     "metadata": {},
     "output_type": "execute_result"
    }
   ],
   "source": [
    "re.findall(\">(.*)<\",s9)  #returns words without tags"
   ]
  },
  {
   "cell_type": "code",
   "execution_count": null,
   "id": "45964e4e",
   "metadata": {},
   "outputs": [],
   "source": [
    "<services>\n",
    "\t<service>\n",
    "\t\t<serviceid>1464</serviceid>\n",
    "\t\t<servicename>AdobeARMservice</servicename>\n",
    "\t\t<status>Running</status>\n",
    "\t\t<group>Acrobat Update Service</group>\n",
    "\t</service>\n"
   ]
  },
  {
   "cell_type": "code",
   "execution_count": 2,
   "id": "23096e9f",
   "metadata": {},
   "outputs": [],
   "source": [
    "#---------------------------------\n",
    "import nltk"
   ]
  },
  {
   "cell_type": "code",
   "execution_count": 185,
   "id": "77fed222",
   "metadata": {},
   "outputs": [
    {
     "name": "stdout",
     "output_type": "stream",
     "text": [
      "Collecting nltk\n",
      "  Downloading nltk-3.6.2-py3-none-any.whl (1.5 MB)\n",
      "Collecting regex\n",
      "  Downloading regex-2021.4.4-cp37-cp37m-win_amd64.whl (269 kB)\n",
      "Requirement already satisfied: tqdm in c:\\users\\mayur\\anaconda3\\envs\\tensorflow\\lib\\site-packages (from nltk) (4.60.0)\n",
      "Requirement already satisfied: click in c:\\users\\mayur\\anaconda3\\envs\\tensorflow\\lib\\site-packages (from nltk) (7.1.2)\n",
      "Requirement already satisfied: joblib in c:\\users\\mayur\\anaconda3\\envs\\tensorflow\\lib\\site-packages (from nltk) (1.0.1)\n",
      "Installing collected packages: regex, nltk\n",
      "Successfully installed nltk-3.6.2 regex-2021.4.4\n"
     ]
    }
   ],
   "source": [
    "!pip install nltk"
   ]
  },
  {
   "cell_type": "code",
   "execution_count": 1,
   "id": "07c4b4c0",
   "metadata": {},
   "outputs": [
    {
     "ename": "NameError",
     "evalue": "name 'nltk' is not defined",
     "output_type": "error",
     "traceback": [
      "\u001b[1;31m---------------------------------------------------------------------------\u001b[0m",
      "\u001b[1;31mNameError\u001b[0m                                 Traceback (most recent call last)",
      "\u001b[1;32m<ipython-input-1-6e230a00a763>\u001b[0m in \u001b[0;36m<module>\u001b[1;34m\u001b[0m\n\u001b[1;32m----> 1\u001b[1;33m \u001b[0mnltk\u001b[0m\u001b[1;33m.\u001b[0m\u001b[0mdownload\u001b[0m\u001b[1;33m(\u001b[0m\u001b[1;33m)\u001b[0m\u001b[1;33m\u001b[0m\u001b[1;33m\u001b[0m\u001b[0m\n\u001b[0m",
      "\u001b[1;31mNameError\u001b[0m: name 'nltk' is not defined"
     ]
    }
   ],
   "source": [
    "nltk.download()"
   ]
  },
  {
   "cell_type": "code",
   "execution_count": null,
   "id": "18945578",
   "metadata": {},
   "outputs": [],
   "source": []
  }
 ],
 "metadata": {
  "kernelspec": {
   "display_name": "Python 3",
   "language": "python",
   "name": "python3"
  },
  "language_info": {
   "codemirror_mode": {
    "name": "ipython",
    "version": 3
   },
   "file_extension": ".py",
   "mimetype": "text/x-python",
   "name": "python",
   "nbconvert_exporter": "python",
   "pygments_lexer": "ipython3",
   "version": "3.7.10"
  }
 },
 "nbformat": 4,
 "nbformat_minor": 5
}
